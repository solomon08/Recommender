{
 "cells": [
  {
   "cell_type": "code",
   "execution_count": 1,
   "metadata": {
    "collapsed": true
   },
   "outputs": [],
   "source": [
    "import pandas as pd\n",
    "import numpy as np"
   ]
  },
  {
   "cell_type": "code",
   "execution_count": 2,
   "metadata": {
    "collapsed": true
   },
   "outputs": [],
   "source": [
    "#download the class movie reviews from here:\n",
    "#https://docs.google.com/spreadsheets/d/17rCJzmWxqvAu9rkpkgt4ToccIlY4A1Ffuu1W9X3B8Ag/\n",
    "#then read that in as a pandas dataframe"
   ]
  },
  {
   "cell_type": "code",
   "execution_count": 3,
   "metadata": {
    "collapsed": true
   },
   "outputs": [],
   "source": [
    "M = pd.read_csv('Movie Reviews - Sheet1.csv', index_col='Name')\n"
   ]
  },
  {
   "cell_type": "code",
   "execution_count": 4,
   "metadata": {
    "collapsed": false
   },
   "outputs": [
    {
     "data": {
      "text/html": [
       "<div>\n",
       "<table border=\"1\" class=\"dataframe\">\n",
       "  <thead>\n",
       "    <tr style=\"text-align: right;\">\n",
       "      <th></th>\n",
       "      <th>American Sniper</th>\n",
       "      <th>The Hunger Games: Mockingjay - Part 1</th>\n",
       "      <th>Guardians of the Galaxy</th>\n",
       "      <th>The Lego Movie</th>\n",
       "      <th>The Hobbit</th>\n",
       "      <th>Transformers</th>\n",
       "      <th>Malificent</th>\n",
       "      <th>Big Hero 6</th>\n",
       "      <th>Godzilla</th>\n",
       "      <th>Interstellar</th>\n",
       "      <th>How to Train your Dragon 2</th>\n",
       "      <th>Gone Girl</th>\n",
       "      <th>Divergent</th>\n",
       "      <th>The Fault in Our Stars</th>\n",
       "      <th>Unbroken</th>\n",
       "      <th>300: Rise of an Empire</th>\n",
       "    </tr>\n",
       "    <tr>\n",
       "      <th>Name</th>\n",
       "      <th></th>\n",
       "      <th></th>\n",
       "      <th></th>\n",
       "      <th></th>\n",
       "      <th></th>\n",
       "      <th></th>\n",
       "      <th></th>\n",
       "      <th></th>\n",
       "      <th></th>\n",
       "      <th></th>\n",
       "      <th></th>\n",
       "      <th></th>\n",
       "      <th></th>\n",
       "      <th></th>\n",
       "      <th></th>\n",
       "      <th></th>\n",
       "    </tr>\n",
       "  </thead>\n",
       "  <tbody>\n",
       "    <tr>\n",
       "      <th>Mike</th>\n",
       "      <td>NaN</td>\n",
       "      <td>NaN</td>\n",
       "      <td>5</td>\n",
       "      <td>NaN</td>\n",
       "      <td>4</td>\n",
       "      <td>NaN</td>\n",
       "      <td>3</td>\n",
       "      <td>NaN</td>\n",
       "      <td>NaN</td>\n",
       "      <td>NaN</td>\n",
       "      <td>NaN</td>\n",
       "      <td>NaN</td>\n",
       "      <td>3</td>\n",
       "      <td>NaN</td>\n",
       "      <td>NaN</td>\n",
       "      <td>2</td>\n",
       "    </tr>\n",
       "    <tr>\n",
       "      <th>HJ SONG</th>\n",
       "      <td>NaN</td>\n",
       "      <td>2</td>\n",
       "      <td>3</td>\n",
       "      <td>4</td>\n",
       "      <td>4</td>\n",
       "      <td>5</td>\n",
       "      <td>NaN</td>\n",
       "      <td>4</td>\n",
       "      <td>4</td>\n",
       "      <td>5</td>\n",
       "      <td>5</td>\n",
       "      <td>NaN</td>\n",
       "      <td>NaN</td>\n",
       "      <td>NaN</td>\n",
       "      <td>5</td>\n",
       "      <td>5</td>\n",
       "    </tr>\n",
       "    <tr>\n",
       "      <th>Ryan Hansen</th>\n",
       "      <td>NaN</td>\n",
       "      <td>3</td>\n",
       "      <td>4</td>\n",
       "      <td>3</td>\n",
       "      <td>5</td>\n",
       "      <td>2</td>\n",
       "      <td>3</td>\n",
       "      <td>3</td>\n",
       "      <td>3</td>\n",
       "      <td>NaN</td>\n",
       "      <td>5</td>\n",
       "      <td>NaN</td>\n",
       "      <td>3</td>\n",
       "      <td>NaN</td>\n",
       "      <td>NaN</td>\n",
       "      <td>NaN</td>\n",
       "    </tr>\n",
       "    <tr>\n",
       "      <th>Olumuyiwa Durojaiye</th>\n",
       "      <td>NaN</td>\n",
       "      <td>NaN</td>\n",
       "      <td>NaN</td>\n",
       "      <td>NaN</td>\n",
       "      <td>NaN</td>\n",
       "      <td>5</td>\n",
       "      <td>NaN</td>\n",
       "      <td>5</td>\n",
       "      <td>2</td>\n",
       "      <td>NaN</td>\n",
       "      <td>3</td>\n",
       "      <td>NaN</td>\n",
       "      <td>NaN</td>\n",
       "      <td>NaN</td>\n",
       "      <td>NaN</td>\n",
       "      <td>2</td>\n",
       "    </tr>\n",
       "    <tr>\n",
       "      <th>Charlie</th>\n",
       "      <td>NaN</td>\n",
       "      <td>2</td>\n",
       "      <td>3</td>\n",
       "      <td>NaN</td>\n",
       "      <td>3</td>\n",
       "      <td>2</td>\n",
       "      <td>3</td>\n",
       "      <td>NaN</td>\n",
       "      <td>4</td>\n",
       "      <td>5</td>\n",
       "      <td>2</td>\n",
       "      <td>NaN</td>\n",
       "      <td>2</td>\n",
       "      <td>3</td>\n",
       "      <td>NaN</td>\n",
       "      <td>2</td>\n",
       "    </tr>\n",
       "  </tbody>\n",
       "</table>\n",
       "</div>"
      ],
      "text/plain": [
       "                     American Sniper  The Hunger Games: Mockingjay - Part 1  \\\n",
       "Name                                                                          \n",
       "Mike                             NaN                                    NaN   \n",
       "HJ SONG                          NaN                                      2   \n",
       "Ryan Hansen                      NaN                                      3   \n",
       "Olumuyiwa Durojaiye              NaN                                    NaN   \n",
       "Charlie                          NaN                                      2   \n",
       "\n",
       "                     Guardians of the Galaxy  The Lego Movie  The Hobbit  \\\n",
       "Name                                                                       \n",
       "Mike                                       5             NaN           4   \n",
       "HJ SONG                                    3               4           4   \n",
       "Ryan Hansen                                4               3           5   \n",
       "Olumuyiwa Durojaiye                      NaN             NaN         NaN   \n",
       "Charlie                                    3             NaN           3   \n",
       "\n",
       "                     Transformers  Malificent  Big Hero 6  Godzilla  \\\n",
       "Name                                                                  \n",
       "Mike                          NaN           3         NaN       NaN   \n",
       "HJ SONG                         5         NaN           4         4   \n",
       "Ryan Hansen                     2           3           3         3   \n",
       "Olumuyiwa Durojaiye             5         NaN           5         2   \n",
       "Charlie                         2           3         NaN         4   \n",
       "\n",
       "                     Interstellar  How to Train your Dragon 2  Gone Girl  \\\n",
       "Name                                                                       \n",
       "Mike                          NaN                         NaN        NaN   \n",
       "HJ SONG                         5                           5        NaN   \n",
       "Ryan Hansen                   NaN                           5        NaN   \n",
       "Olumuyiwa Durojaiye           NaN                           3        NaN   \n",
       "Charlie                         5                           2        NaN   \n",
       "\n",
       "                     Divergent  The Fault in Our Stars  Unbroken  \\\n",
       "Name                                                               \n",
       "Mike                         3                     NaN       NaN   \n",
       "HJ SONG                    NaN                     NaN         5   \n",
       "Ryan Hansen                  3                     NaN       NaN   \n",
       "Olumuyiwa Durojaiye        NaN                     NaN       NaN   \n",
       "Charlie                      2                       3       NaN   \n",
       "\n",
       "                     300: Rise of an Empire  \n",
       "Name                                         \n",
       "Mike                                      2  \n",
       "HJ SONG                                   5  \n",
       "Ryan Hansen                             NaN  \n",
       "Olumuyiwa Durojaiye                       2  \n",
       "Charlie                                   2  "
      ]
     },
     "execution_count": 4,
     "metadata": {},
     "output_type": "execute_result"
    }
   ],
   "source": [
    "M.head()\n"
   ]
  },
  {
   "cell_type": "code",
   "execution_count": 5,
   "metadata": {
    "collapsed": true
   },
   "outputs": [],
   "source": [
    "def pearson(s1, s2):\n",
    "    \"\"\"Take two pd.Series objects and return a pearson correlation.\"\"\"\n",
    "    s1_c = s1 - s1.mean()\n",
    "    s2_c = s2 - s2.mean()\n",
    "    return np.sum(s1_c * s2_c) / np.sqrt(np.sum(s1_c ** 2) * np.sum(s2_c ** 2))"
   ]
  },
  {
   "cell_type": "code",
   "execution_count": 6,
   "metadata": {
    "collapsed": true
   },
   "outputs": [],
   "source": [
    "def get_recs(movie_name, M, num):\n",
    "\n",
    "    import numpy as np\n",
    "    reviews = []\n",
    "    for title in M.columns:\n",
    "        if title == movie_name:\n",
    "            continue\n",
    "        cor = pearson(M[movie_name], M[title])\n",
    "        if np.isnan(cor):\n",
    "            continue\n",
    "        else:\n",
    "            reviews.append((title, cor))\n",
    "    \n",
    "    reviews.sort(key=lambda tup: tup[1], reverse=True)\n",
    "    return reviews[:num]"
   ]
  },
  {
   "cell_type": "markdown",
   "metadata": {},
   "source": [
    "##Question 1:  What movie is most Similar to 'The fault in our stars' (60 pts)"
   ]
  },
  {
   "cell_type": "code",
   "execution_count": 7,
   "metadata": {
    "collapsed": true
   },
   "outputs": [],
   "source": [
    "recs = get_recs('The Fault in Our Stars', M, 10)\n"
   ]
  },
  {
   "cell_type": "code",
   "execution_count": 9,
   "metadata": {
    "collapsed": false
   },
   "outputs": [
    {
     "data": {
      "text/plain": [
       "[('How to Train your Dragon 2', 0.40401368444482771),\n",
       " ('Malificent', 0.27609373497315193),\n",
       " ('Transformers', 0.21914426430710698),\n",
       " ('Godzilla', 0.17034199317339069),\n",
       " ('Divergent', 0.11913915894507225)]"
      ]
     },
     "execution_count": 9,
     "metadata": {},
     "output_type": "execute_result"
    }
   ],
   "source": [
    "recs[:5]\n"
   ]
  },
  {
   "cell_type": "markdown",
   "metadata": {},
   "source": [
    "##Answer: How to train your Dragon is most similar to The fault in our stars"
   ]
  },
  {
   "cell_type": "markdown",
   "metadata": {},
   "source": [
    "##Question 2: Which movie(s) would you most like to see, based on your classmates experience? (40 pts)"
   ]
  },
  {
   "cell_type": "code",
   "execution_count": 10,
   "metadata": {
    "collapsed": true
   },
   "outputs": [],
   "source": [
    "#hints\n",
    "\n",
    "#the movies I have watched\n",
    "my_ratings = M.ix['solomon choppara'].dropna()\n",
    "#the movie I have rated the highest\n",
    "my_ratings.sort(ascending=False)\n",
    "#the name of the movie I have  rated the highest\n",
    "fav_movie = my_ratings.index[0]"
   ]
  },
  {
   "cell_type": "code",
   "execution_count": 11,
   "metadata": {
    "collapsed": false
   },
   "outputs": [
    {
     "data": {
      "text/plain": [
       "300: Rise of an Empire                   5\n",
       "Interstellar                             5\n",
       "Transformers                             5\n",
       "The Hobbit                               5\n",
       "American Sniper                          5\n",
       "Gone Girl                                4\n",
       "Godzilla                                 4\n",
       "Malificent                               4\n",
       "Guardians of the Galaxy                  4\n",
       "The Hunger Games: Mockingjay - Part 1    4\n",
       "The Fault in Our Stars                   3\n",
       "Divergent                                3\n",
       "The Lego Movie                           3\n",
       "How to Train your Dragon 2               2\n",
       "Name: solomon choppara, dtype: float64"
      ]
     },
     "execution_count": 11,
     "metadata": {},
     "output_type": "execute_result"
    }
   ],
   "source": [
    "my_ratings"
   ]
  },
  {
   "cell_type": "code",
   "execution_count": 12,
   "metadata": {
    "collapsed": false
   },
   "outputs": [
    {
     "data": {
      "text/plain": [
       "'300: Rise of an Empire'"
      ]
     },
     "execution_count": 12,
     "metadata": {},
     "output_type": "execute_result"
    }
   ],
   "source": [
    "fav_movie"
   ]
  },
  {
   "cell_type": "code",
   "execution_count": 15,
   "metadata": {
    "collapsed": true
   },
   "outputs": [],
   "source": [
    "recs = get_recs(fav_movie, M, 5)"
   ]
  },
  {
   "cell_type": "code",
   "execution_count": 16,
   "metadata": {
    "collapsed": false
   },
   "outputs": [
    {
     "data": {
      "text/plain": [
       "[('American Sniper', 0.34394881574333203),\n",
       " ('Gone Girl', 0.1895255356033281),\n",
       " ('Divergent', 0.13222857446298186),\n",
       " ('The Hobbit', 0.11145630827799345),\n",
       " ('Godzilla', 0.082805670048120839)]"
      ]
     },
     "execution_count": 16,
     "metadata": {},
     "output_type": "execute_result"
    }
   ],
   "source": [
    "recs[:5]\n"
   ]
  },
  {
   "cell_type": "code",
   "execution_count": 17,
   "metadata": {
    "collapsed": false
   },
   "outputs": [
    {
     "data": {
      "text/plain": [
       "[('Gone Girl', 0.41575025532408844),\n",
       " ('The Lego Movie', 0.38478708993785604),\n",
       " ('300: Rise of an Empire', 0.34394881574333203),\n",
       " ('Divergent', 0.19354849188515702),\n",
       " ('Interstellar', 0.17521435805327887)]"
      ]
     },
     "execution_count": 17,
     "metadata": {},
     "output_type": "execute_result"
    }
   ],
   "source": [
    "#American Sniper\n",
    "recs = get_recs('American Sniper', M, 10)\n",
    "recs[:5]"
   ]
  },
  {
   "cell_type": "code",
   "execution_count": 18,
   "metadata": {
    "collapsed": false
   },
   "outputs": [
    {
     "data": {
      "text/plain": [
       "[('Divergent', 0.23129245456958647),\n",
       " ('The Lego Movie', 0.1957880981282035),\n",
       " ('American Sniper', 0.17521435805327887),\n",
       " ('The Hobbit', 0.14126502389928408),\n",
       " ('Transformers', 0.13565198821760543)]"
      ]
     },
     "execution_count": 18,
     "metadata": {},
     "output_type": "execute_result"
    }
   ],
   "source": [
    "#Interstellar\n",
    "recs = get_recs('Interstellar', M, 10)\n",
    "recs[:5]"
   ]
  },
  {
   "cell_type": "code",
   "execution_count": 20,
   "metadata": {
    "collapsed": false
   },
   "outputs": [
    {
     "data": {
      "text/plain": [
       "[('How to Train your Dragon 2', 0.41777222822134852),\n",
       " ('American Sniper', 0.38478708993785604),\n",
       " ('Godzilla', 0.37947349408163172),\n",
       " ('Guardians of the Galaxy', 0.37051318560063934),\n",
       " ('Transformers', 0.26949239445432382)]"
      ]
     },
     "execution_count": 20,
     "metadata": {},
     "output_type": "execute_result"
    }
   ],
   "source": [
    "#The Lego Movie\n",
    "recs = get_recs('The Lego Movie', M, 10)\n",
    "recs[:5]"
   ]
  },
  {
   "cell_type": "markdown",
   "metadata": {},
   "source": [
    "##Question 3: Bonus Question... For all the movies you haven't seen, can you predict how you'd rate them using your the class reviews? (10 pts)"
   ]
  },
  {
   "cell_type": "code",
   "execution_count": 21,
   "metadata": {
    "collapsed": true
   },
   "outputs": [],
   "source": [
    "not_rated = M.ix['solomon choppara']\n",
    "not_rated.sort()\n",
    "for i in range(0, not_rated.count(), 1):\n",
    "    not_rated.drop(not_rated.index[0], inplace=True)"
   ]
  },
  {
   "cell_type": "code",
   "execution_count": 22,
   "metadata": {
    "collapsed": false
   },
   "outputs": [
    {
     "data": {
      "text/plain": [
       "Big Hero 6   NaN\n",
       "Unbroken     NaN\n",
       "Name: solomon choppara, dtype: float64"
      ]
     },
     "execution_count": 22,
     "metadata": {},
     "output_type": "execute_result"
    }
   ],
   "source": [
    "not_rated"
   ]
  },
  {
   "cell_type": "code",
   "execution_count": 23,
   "metadata": {
    "collapsed": false
   },
   "outputs": [
    {
     "name": "stdout",
     "output_type": "stream",
     "text": [
      "Pearson Correlation coefficient of :\n",
      "(solomon choppara , Mike) : -0.0506369683542\n",
      "(solomon choppara , HJ SONG) : 0.0760856247819\n",
      "(solomon choppara , Ryan Hansen) : -0.219125245045\n",
      "(solomon choppara , Olumuyiwa Durojaiye) : 0.0951733734534\n",
      "(solomon choppara , Charlie) : 0.2789806242\n",
      "(solomon choppara , Sina Tuy) : 0.121255472878\n",
      "(solomon choppara , Pavithra Shetty) : -0.174077655956\n",
      "(solomon choppara , Sara Collins) : 0.0\n",
      "(solomon choppara , Jonathan Doll) : 0.0345032779671\n",
      "(solomon choppara , saikiran reddy) : 0.00617707763884\n",
      "(solomon choppara , Aishwarya reddy) : 0.267261241912\n",
      "(solomon choppara , Brant Mullinix) : 0.40618119723\n",
      "(solomon choppara , Sai Sampath) : 0.267261241912\n",
      "(solomon choppara , Suyendra) : -0.0854676008385\n",
      "(solomon choppara , Sai Yallapragada) : 0.433012701892\n",
      "(solomon choppara , Akhilesh) : 0.467800742853\n",
      "(solomon choppara , Sundar Prasad) : 0.117851130198\n",
      "(solomon choppara , Evan Piercy) : 0.0527046276695\n",
      "(solomon choppara , Jessica Fong) : -0.105409255339\n",
      "(solomon choppara , Onsiri Tapsarn) : nan\n",
      "(solomon choppara , Anirudh Thota) : 0.494881205349\n",
      "(solomon choppara , Greg Werner) : 0.247779252205\n",
      "(solomon choppara , Violeta Lee Fay) : 0.111111111111\n",
      "(solomon choppara , Aditya Dharmasagar) : 0.333333333333\n",
      "(solomon choppara , Manideep Maddipatla) : 0.502592033959\n",
      "(solomon choppara , Maheshwar Reddy) : 0.136082763488\n",
      "(solomon choppara , siddanth sudarshan) : 0.121045506534\n",
      "(solomon choppara , anurag) : 0.393919298579\n",
      "(solomon choppara , Ahmed Muheebuddin) : 0.0\n",
      "(solomon choppara , azam) : 0.204124145232\n",
      "(solomon choppara , Aswini kumar) : 0.115727512472\n",
      "(solomon choppara , M A Nissar) : 0.182574185835\n",
      "(solomon choppara , Yinka Adeyemo) : nan\n",
      "(solomon choppara , Thomas Podlipni) : -0.0833333333333\n",
      "(solomon choppara , Bradley Brubaker) : -0.0962250448649\n",
      "(solomon choppara , Harish Kallianpur) : 0.353553390593\n",
      "(solomon choppara , J A Barnes) : 0.589255650989\n",
      "(solomon choppara , Jared Knowles) : 0.316227766017\n",
      "(solomon choppara , veerendra battula) : 0.6066388981\n",
      "(solomon choppara , Trudy Kline) : -0.175411603861\n",
      "(solomon choppara , Rajesh Kinkirla) : 0.722315118515\n",
      "(solomon choppara , Syed Farzan) : 0.345032779671\n",
      "(solomon choppara , Syed Abbas Hussaini) : -0.152145154863\n",
      "(solomon choppara , Arun Vedere) : 0.51031036308\n",
      "(solomon choppara , Venkatesh Komma) : 0.317553674415\n",
      "(solomon choppara , Graham Bullard) : 0.0976416832356\n"
     ]
    }
   ],
   "source": [
    "#pearson correlation coefficient between (Solomon Choppara and all other students)\n",
    "print \"Pearson Correlation coefficient of :\"\n",
    "a= []\n",
    "for i in range(0, 46, 1):\n",
    "    cor=pearson(M.ix[46], M.ix[i])\n",
    "    print \"(\" + M.index[46] + \" , \" + M.index[i] + \") :\", cor\n",
    "    a.append(cor)"
   ]
  },
  {
   "cell_type": "markdown",
   "metadata": {},
   "source": [
    "##Takes two parameters 'x' and 'a'.\n",
    "##Where 'x' a list of rates given by classmates.\n",
    "##'a' is a array that has corresponding pearson correlation coefficientreturn (weights for the given rates)."
   ]
  },
  {
   "cell_type": "code",
   "execution_count": 24,
   "metadata": {
    "collapsed": true
   },
   "outputs": [],
   "source": [
    "def pred_rate(x, a):\n",
    "    \n",
    "    j=0\n",
    "    k=0\n",
    "    for i in range(0, 46, 1):   \n",
    "        if x.irow(i)>0 and a[i]>0: \n",
    "            j= j+(a[i]*x.irow(i))\n",
    "            k= k+a[i]\n",
    "        else:\n",
    "            continue\n",
    "    return j/k"
   ]
  },
  {
   "cell_type": "code",
   "execution_count": 25,
   "metadata": {
    "collapsed": false
   },
   "outputs": [
    {
     "name": "stdout",
     "output_type": "stream",
     "text": [
      "My ratings for the movies that I have not seen would be\n",
      "Big Hero 6:  4.0\n",
      "Unbroken:  4.3\n"
     ]
    }
   ],
   "source": [
    "print \"My ratings for the movies that I have not seen would be\"\n",
    "for i in range(0, 2, 1): \n",
    "    x=M[not_rated.index[i]]\n",
    "    rate=pred_rate(x, a)\n",
    "    print not_rated.index[i] +\": \", rate.round(1)"
   ]
  },
  {
   "cell_type": "code",
   "execution_count": null,
   "metadata": {
    "collapsed": true
   },
   "outputs": [],
   "source": []
  }
 ],
 "metadata": {
  "kernelspec": {
   "display_name": "Python 2",
   "language": "python",
   "name": "python2"
  },
  "language_info": {
   "codemirror_mode": {
    "name": "ipython",
    "version": 2
   },
   "file_extension": ".py",
   "mimetype": "text/x-python",
   "name": "python",
   "nbconvert_exporter": "python",
   "pygments_lexer": "ipython2",
   "version": "2.7.10"
  }
 },
 "nbformat": 4,
 "nbformat_minor": 0
}
